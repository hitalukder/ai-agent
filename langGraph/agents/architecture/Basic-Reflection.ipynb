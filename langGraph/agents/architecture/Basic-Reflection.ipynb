{
 "cells": [
  {
   "cell_type": "markdown",
   "id": "3c083179-4463-43ba-8ad1-5c650802555a",
   "metadata": {},
   "source": [
    "\n",
    "#### Evaluator-Optimizer Pattern:\n",
    "\n",
    "- This pattern involves an agent that generates an initial output, which is then evaluated by another agent (or the same agent with a different prompt).\n",
    "- The evaluator provides feedback, and the original agent uses this feedback to refine its output.\n",
    "- This cycle can repeat multiple times to achieve a higher quality output.\n",
    "- It's often used for tasks like code generation, writing and refinement, complex problem-solving, and information retrieval.\n",
    "  \n",
    "#### Reflexion Pattern:\n",
    "\n",
    "- Reflexion is a specific type of Evaluator-Optimizer where the feedback is in the form of verbal self-reflection.\n",
    "- The agent critiques its own responses to generate a higher quality final response.\n",
    "- It includes tool execution in addition to reflection.\n",
    "- Reflexion agents also store the reflections in an episodic memory.\n",
    "\n",
    "***Verbal self-reflection is when a language model (or agent) thinks about its own performance and explains what went wrong or right — using natural language.***\n"
   ]
  }
 ],
 "metadata": {
  "kernelspec": {
   "display_name": "Python 3 (ipykernel)",
   "language": "python",
   "name": "python3"
  },
  "language_info": {
   "codemirror_mode": {
    "name": "ipython",
    "version": 3
   },
   "file_extension": ".py",
   "mimetype": "text/x-python",
   "name": "python",
   "nbconvert_exporter": "python",
   "pygments_lexer": "ipython3",
   "version": "3.11.5"
  }
 },
 "nbformat": 4,
 "nbformat_minor": 5
}
