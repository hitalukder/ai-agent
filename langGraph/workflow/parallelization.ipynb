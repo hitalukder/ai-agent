{
 "cells": [
  {
   "cell_type": "markdown",
   "id": "5986c984-c309-4395-9e64-a25154110a4f",
   "metadata": {},
   "source": [
    "# Parallelization\n",
    "\n",
    "**Parallelization with LLMs (Large Language Models)** means running multiple parts of a task at the same time to work faster or get better results. There are two main ways to do this:\n",
    "\n",
    "1. **Sectioning** – Split a task into smaller, separate parts and run them all at once.\n",
    "2. **Voting** – Run the same task multiple times and combine the different results to choose the best one.\n",
    "\n",
    "**When to use it:**\n",
    "Use parallelization when:\n",
    "\n",
    "* You want to save time by doing parts of a task in parallel.\n",
    "* You want more accurate or creative results by comparing multiple answers.\n",
    "* The task is complex and needs different parts handled separately for better quality.\n",
    "\n",
    "## Prerequisite\n",
    "\n",
    "- [Ollama](https://ollama.com/) installed to generate the graph\n",
    "- Taviley search tool to retrieve context for our usecase.\n",
    "\n",
    "Download the granite model\n",
    "\n",
    "```sh\n",
    "ollama pull granite3.2:2b  \n",
    "```\n"
   ]
  },
  {
   "cell_type": "code",
   "execution_count": null,
   "id": "18da27e8-13db-4dc7-9a3b-2cb6f10326c2",
   "metadata": {},
   "outputs": [],
   "source": [
    "%%capture --no-stderr\n",
    "## lets start with installing all the required libraries\n",
    "%pip install --upgrade --quiet langgraph  langchain langchain-community langchain-ollama langchain-experimental python-dotenv langchain_core tavily-python wikipedia"
   ]
  },
  {
   "cell_type": "code",
   "execution_count": 2,
   "id": "df68efce-ab95-47dc-b79b-ad13e9ce1bf7",
   "metadata": {},
   "outputs": [
    {
     "data": {
      "text/plain": [
       "True"
      ]
     },
     "execution_count": 2,
     "metadata": {},
     "output_type": "execute_result"
    }
   ],
   "source": [
    "## Load the environment variable from .env file\n",
    "\n",
    "import os\n",
    "from dotenv import load_dotenv\n",
    "load_dotenv()"
   ]
  },
  {
   "cell_type": "markdown",
   "id": "5b21be96-d384-4c5e-8a0a-3e019cfaecc7",
   "metadata": {},
   "source": [
    "### LLM Model using OLLAMA"
   ]
  },
  {
   "cell_type": "code",
   "execution_count": 27,
   "id": "0464556f-7029-4cc9-aa8e-c99b9cffd294",
   "metadata": {},
   "outputs": [],
   "source": [
    "### LLM\n",
    "from langchain_ollama import ChatOllama\n",
    "from IPython.display import display\n",
    "\n",
    "local_llm = \"granite3.2:2b\"\n",
    "llm = ChatOllama(model=local_llm, temperature=0)\n",
    "llm_json_mode = ChatOllama(model=local_llm, temperature=0, format=\"json\")"
   ]
  },
  {
   "cell_type": "code",
   "execution_count": 8,
   "id": "9222ecbd-d267-43c9-8f4e-9d2c92da481b",
   "metadata": {},
   "outputs": [
    {
     "name": "stdout",
     "output_type": "stream",
     "text": [
      "{\n",
      "\"response\": \"I'm an artificial intelligence and don't have feelings, but I'm functioning well, thank you! As for you, I'm here to provide assistance and make your interaction as smooth as possible.\"\n",
      "}\n"
     ]
    }
   ],
   "source": [
    "## Testing the LLM model\n",
    "\n",
    "from langchain_core.messages import HumanMessage\n",
    "\n",
    "# Create a message\n",
    "msg = HumanMessage(content=\"Hello how are you?\", name=\"Himadri\")\n",
    "\n",
    "# Message list\n",
    "messages = [msg]\n",
    "\n",
    "# Invoke the model with a list of messages \n",
    "response=llm_json_mode.invoke(messages)\n",
    "print(response.content)"
   ]
  },
  {
   "cell_type": "markdown",
   "id": "9371ac7e-8cc0-410b-a5ec-2faf736d1c00",
   "metadata": {},
   "source": [
    "## Usecase:\n",
    "\n",
    "In this lesson, we'll explore a use case where we summarize a document using a parallel workflow.\n",
    "Since LLMs have a limited context length, we'll split the document into four parts and summarize each part separately in parallel. Then, we'll combine those four summaries into one final summary that represents the entire document."
   ]
  },
  {
   "cell_type": "code",
   "execution_count": 18,
   "id": "04f53b44-b78a-4933-b028-bc9fd0e620cb",
   "metadata": {},
   "outputs": [],
   "source": [
    "from typing import List\n",
    "from math import ceil\n",
    "\n",
    "# Step 1: Split the list into 4 roughly equal parts\n",
    "def split_into_chunks(doc_list, n_chunks=4):\n",
    "    chunk_size = ceil(len(doc_list) / n_chunks)\n",
    "    return [doc_list[i * chunk_size:(i + 1) * chunk_size] for i in range(n_chunks)]"
   ]
  },
  {
   "cell_type": "markdown",
   "id": "343f34eb-8531-4f2f-adb8-3a433a542f65",
   "metadata": {},
   "source": [
    "## Lets build the Parallelization workflow using LangGraph"
   ]
  },
  {
   "cell_type": "code",
   "execution_count": 33,
   "id": "5c4c9741-8ddc-459f-b938-191e480cb085",
   "metadata": {},
   "outputs": [
    {
     "data": {
      "text/plain": [
       "\"IBM introduced the Personal Computer AT (AT) in 1984 as its fourth model in the IBM Personal Computer line, following the PC/XT and Portable PC. This move was unusual for IBM, which usually waited for competitors to release new products before producing their own models. The AT was priced similarly to slower IBM models at $4,000–6,000, surprising rival executives who found it difficult to match the price.\\n\\nKey features of the IBM Personal Computer AT include:\\n\\n1. **Processor**: It was compatible with the Intel 80286 processor, offering faster execution of floating-point operations compared to previous models' 8088 processors.\\n\\n2. **AT Bus (ISA)**: The AT introduced this 16-bit bus, which provided fifteen IRQs and seven DMA channels, expanding from the PC's eight IRQs and four DMA channels. This enhancement allowed for better expansion card compatibility and functionality.\\n\\n3. **Memory Support**: With a 24-bit address bus supporting the 80286 processor, RAM capacity expanded to 16 MB.\\n\\n4. **Operating System (OS)**: PC DOS 3.0 was included with support for new AT features like preliminary networking kernel support.\\n\\n5. **Motherboard and Battery-Backed Real-Time Clock (RTC)**: The motherboard featured a battery-backed RTC using the Motorola MC146818, offering improved timekeeping over the PC's manual or expansion card-based clock setup. It also included 50 bytes of CMOS memory for storing BIOS parameters and a disk-based BIOS setup program.\\n\\n6. **Storage**: The standard floppy drive was upgraded to a 1.2 MB 5+1⁄4 inch floppy disk drive, offering more storage than the PC's 360 KB floppy disks but with compatibility issues for older 360k discs. Later ATs introduced 3.5-inch floppy drives.\\n\\n7. **Hard Disk Drive**: A 20 MB hard disk drive was included as standard, though early models from Computer Memories were known to be unreliable.\\n\\n8. **Peripherals**: The AT featured an 84-key keyboard with a numeric keypad and indicator LEDs for Caps Lock, Scroll Lock, and Num Lock. Later versions introduced 101-key keyboards like the Model M. It also included a physical lock to prevent unauthorized access.\\n\\nIn summary, the IBM Personal Computer AT was an advanced model that built upon its predecessors by incorporating the Intel 80286 processor, enhanced I/O capabilities through the AT bus, increased RAM capacity, and improved peripherals like keyboards and storage options.\""
      ]
     },
     "execution_count": 33,
     "metadata": {},
     "output_type": "execute_result"
    }
   ],
   "source": [
    "from langchain_core.messages import HumanMessage, SystemMessage\n",
    "\n",
    "prompt = \"\"\"Provide a one-paragraph summary of the following wikipedia paragraph:\n",
    "\n",
    "{article}\n",
    "\n",
    "Summarization:\"\"\"\n",
    "\n",
    "doc_text = prompt.format(article=combined_contents[0])\n",
    "summarized_doc = llm.invoke([HumanMessage(content=doc_text)])\n",
    "\n",
    "summarized_doc.content"
   ]
  },
  {
   "cell_type": "code",
   "execution_count": 39,
   "id": "c31b9d68-2704-4928-913d-b681a0188ac4",
   "metadata": {},
   "outputs": [
    {
     "data": {
      "image/png": "[encoded data removed]",
      "text/plain": [
       "<IPython.core.display.Image object>"
      ]
     },
     "metadata": {},
     "output_type": "display_data"
    }
   ],
   "source": [
    "from langchain.document_loaders import WikipediaLoader\n",
    "from typing_extensions import TypedDict, List, Any\n",
    "from langgraph.graph import StateGraph, START, END\n",
    "from IPython.display import Image, display\n",
    "\n",
    "## Define graph state\n",
    "\n",
    "class State(TypedDict):\n",
    "    wiki_title: str\n",
    "    combined_contents: List[str]\n",
    "    summary1: str\n",
    "    summary2: str\n",
    "    summary3: str\n",
    "    summary4: str\n",
    "    summaryFinal: str\n",
    "    \n",
    "\n",
    "# Nodes\n",
    "\n",
    "def extract_wiki_page(state: State):\n",
    "    raw_documents = WikipediaLoader(query=state[\"wiki_title\"]).load()\n",
    "    chunks = split_into_chunks(raw_documents, 4)\n",
    "    combined_contents = [\"\\n\\n\".join(doc.page_content for doc in chunk) for chunk in chunks]\n",
    "    return { \"combined_contents\":  combined_contents}\n",
    "\n",
    "def summarize_part_1(state: State):\n",
    "    \"\"\"Summarize wiki paragraph part 1\"\"\"\n",
    "\n",
    "    print(\"___SUMMARIZE_PART_1___\")\n",
    "    doc_text = prompt.format(article=state[\"combined_contents\"][0])\n",
    "    summarized_doc = llm.invoke([HumanMessage(content=doc_text)])\n",
    "\n",
    "    return {\"summary1\": summarized_doc.content}\n",
    "\n",
    "def summarize_part_2(state: State):\n",
    "    \"\"\"Summarize wiki paragraph part 2\"\"\"\n",
    "\n",
    "    print(\"___SUMMARIZE_PART_2___\")\n",
    "    doc_text = prompt.format(article=state[\"combined_contents\"][1])\n",
    "    summarized_doc = llm.invoke([HumanMessage(content=doc_text)])\n",
    "\n",
    "    return {\"summary2\": summarized_doc.content}\n",
    "\n",
    "def summarize_part_3(state: State):\n",
    "    \"\"\"Summarize wiki paragraph part 3\"\"\"\n",
    "\n",
    "    print(\"___SUMMARIZE_PART_3___\")\n",
    "    doc_text = prompt.format(article=state[\"combined_contents\"][2])\n",
    "    summarized_doc = llm.invoke([HumanMessage(content=doc_text)])\n",
    "\n",
    "    return {\"summary3\": summarized_doc.content}\n",
    "\n",
    "def summarize_part_4(state: State):\n",
    "    \"\"\"Summarize wiki paragraph part 4\"\"\"\n",
    "\n",
    "    print(\"___SUMMARIZE_PART_4___\")\n",
    "    doc_text = prompt.format(article=state[\"combined_contents\"][3])\n",
    "    summarized_doc = llm.invoke([HumanMessage(content=doc_text)])\n",
    "\n",
    "    return {\"summary4\": summarized_doc.content}\n",
    "\n",
    "\n",
    "def aggregator(state: State):\n",
    "    \"\"\"Summarize wiki paragraph final all four part\"\"\"\n",
    "\n",
    "    print(\"___SUMMARIZE_PART_FINAL___\")\n",
    "    \n",
    "    doc_text = state[\"summary1\"] + \"\\n\\n\" + state[\"summary2\"] + \"\\n\\n\" + state[\"summary3\"] + \"\\n\\n\" + state[\"summary4\"]\n",
    "    \n",
    "    summarized_doc = llm.invoke([HumanMessage(content=doc_text)])\n",
    "\n",
    "    return {\"summaryFinal\": summarized_doc.content}\n",
    "\n",
    "\n",
    "# Build workflow\n",
    "parallel_builder = StateGraph(State)\n",
    "\n",
    "# Add nodes\n",
    "parallel_builder.add_node(\"extract_wiki_page\", extract_wiki_page)\n",
    "\n",
    "parallel_builder.add_node(\"summarize_part_1\", summarize_part_1)\n",
    "parallel_builder.add_node(\"summarize_part_2\", summarize_part_2)\n",
    "parallel_builder.add_node(\"summarize_part_3\", summarize_part_3)\n",
    "parallel_builder.add_node(\"summarize_part_4\", summarize_part_4)\n",
    "parallel_builder.add_node(\"aggregator\", aggregator)\n",
    "\n",
    "# Add edges to connect nodes\n",
    "\n",
    "parallel_builder.add_edge(START, \"extract_wiki_page\")\n",
    "\n",
    "parallel_builder.add_edge(\"extract_wiki_page\", \"summarize_part_1\")\n",
    "parallel_builder.add_edge(\"extract_wiki_page\", \"summarize_part_2\")\n",
    "parallel_builder.add_edge(\"extract_wiki_page\", \"summarize_part_3\")\n",
    "parallel_builder.add_edge(\"extract_wiki_page\", \"summarize_part_4\")\n",
    "\n",
    "parallel_builder.add_edge(\"summarize_part_1\", \"aggregator\")\n",
    "parallel_builder.add_edge(\"summarize_part_2\", \"aggregator\")\n",
    "parallel_builder.add_edge(\"summarize_part_3\", \"aggregator\")\n",
    "parallel_builder.add_edge(\"summarize_part_4\", \"aggregator\")\n",
    "\n",
    "parallel_builder.add_edge(\"aggregator\", END)\n",
    "\n",
    "parallel_workflow = parallel_builder.compile()\n",
    "\n",
    "# Show workflow\n",
    "display(Image(parallel_workflow.get_graph().draw_mermaid_png()))\n",
    "\n"
   ]
  },
  {
   "cell_type": "code",
   "execution_count": 40,
   "id": "1ea21957-124f-4434-8077-0942253eabec",
   "metadata": {},
   "outputs": [
    {
     "name": "stderr",
     "output_type": "stream",
     "text": [
      "/Users/htalukder/mlops/learning/ai-agents/.venv/lib/python3.11/site-packages/wikipedia/wikipedia.py:389: GuessedAtParserWarning: No parser was explicitly specified, so I'm using the best available HTML parser for this system (\"html.parser\"). This usually isn't a problem, but if you run this code on another system, or in a different virtual environment, it may use a different parser and behave differently.\n",
      "\n",
      "The code that caused this warning is on line 389 of the file /Users/htalukder/mlops/learning/ai-agents/.venv/lib/python3.11/site-packages/wikipedia/wikipedia.py. To get rid of this warning, pass the additional argument 'features=\"html.parser\"' to the BeautifulSoup constructor.\n",
      "\n",
      "  lis = BeautifulSoup(html).find_all('li')\n"
     ]
    },
    {
     "name": "stdout",
     "output_type": "stream",
     "text": [
      "___SUMMARIZE_PART_1___\n",
      "___SUMMARIZE_PART_2___\n",
      "___SUMMARIZE_PART_3___\n",
      "___SUMMARIZE_PART_4___\n",
      "___SUMMARIZE_PART_FINAL___\n",
      "**Comparison of IBM's Pioneering Portable Computers:**\n",
      "\n",
      "|   | IBM 5100 (1975) | IBM 4381 (1981) | IBM 9021 (1986) |\n",
      "|---|---|---|---|\n",
      "| **Processor** | 16-bit PALM module, up to 64 KB memory | 32-bit Motorola 68000 series | 32-bit Intel 80386SX |\n",
      "| **Memory** | Up to 64 KB (BASIC or APL) | Up to 1 MB (expandable) | Up to 16 MB (expandable) |\n",
      "| **Display** | Integrated five-inch CRT, 16 lines of 64 characters per screen | 8.5\" TFT color display | 14\" TFT color display |\n",
      "| **Weight** | ~55 lbs (25 kg) | ~7 lbs (3.2 kg) | ~9 lbs (4.1 kg) |\n",
      "| **Price** | $8,975 - $19,975 (equivalent to $52,000 - $117,000 today) | $6,995 (approximately $13,000 in 1981 dollars) | $4,995 (approximately $10,000 in 1986 dollars) |\n",
      "| **Key Features** | First portable computer with integrated CRT and substantial memory; offered BASIC and APL programming languages. | Introduced the first IBM laptop with a TFT display for portability without sacrificing screen quality. | Pioneered the ThinkPad series, featuring durable design, trackpoint input, and innovative battery life management. |\n",
      "| **Significance** | Established portable computing as a viable option; popularized integrated displays and memory for portables. | Set new standards for laptop ergonomics, reliability, and user-friendly features. | Launched the ThinkPad line, revolutionizing business laptops with innovative designs and robust performance. |\n",
      "\n",
      "These comparisons highlight IBM's evolution from introducing groundbreaking portable computers to leading the market with durable, feature-rich laptops. Each model built upon its predecessor, demonstrating continuous improvement in portability, functionality, and user experience.\n"
     ]
    }
   ],
   "source": [
    "\n",
    "# Invoke\n",
    "state = parallel_workflow.invoke({\"wiki_title\": \"IBM\"})\n",
    "print(state[\"summaryFinal\"])"
   ]
  },
  {
   "cell_type": "code",
   "execution_count": null,
   "id": "5cc8c5c0-eb8e-4ba8-a6d6-e3b5c142d8f0",
   "metadata": {},
   "outputs": [],
   "source": []
  }
 ],
 "metadata": {
  "kernelspec": {
   "display_name": "Python 3 (ipykernel)",
   "language": "python",
   "name": "python3"
  },
  "language_info": {
   "codemirror_mode": {
    "name": "ipython",
    "version": 3
   },
   "file_extension": ".py",
   "mimetype": "text/x-python",
   "name": "python",
   "nbconvert_exporter": "python",
   "pygments_lexer": "ipython3",
   "version": "3.11.5"
  }
 },
 "nbformat": 4,
 "nbformat_minor": 5
}
