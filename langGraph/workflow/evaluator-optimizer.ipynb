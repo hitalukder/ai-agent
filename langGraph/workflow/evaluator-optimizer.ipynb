{
 "cells": [
  {
   "cell_type": "markdown",
   "id": "a16ac850-a5b5-40d6-9d17-3e865fefcd38",
   "metadata": {},
   "source": [
    "# Evaluator-optimizer\n",
    "\n",
    "**In the evaluator-optimizer workflow, one LLM generates a response, and another LLM reviews it and gives feedback in a loop.** This process continues until the response improves.\n",
    "\n",
    "**When to use this workflow:**\n",
    "Use this method when:\n",
    "\n",
    "1. You have clear criteria for what makes a good response.\n",
    "2. You expect that reviewing and improving the response multiple times will lead to better results.\n",
    "\n",
    "It works well when LLM feedback can clearly improve the output—similar to how a human writer edits and refines their work to make it better.\n",
    "\n",
    "#### Evaluator-Optimizer Pattern:\n",
    "\n",
    "- This pattern involves an agent that generates an initial output, which is then evaluated by another agent (or the same agent with a different prompt).\n",
    "- The evaluator provides feedback, and the original agent uses this feedback to refine its output.\n",
    "- This cycle can repeat multiple times to achieve a higher quality output.\n",
    "- It's often used for tasks like code generation, writing and refinement, complex problem-solving, and information retrieval.\n",
    "  \n",
    "#### Reflexion Pattern:\n",
    "\n",
    "- Reflexion is a specific type of Evaluator-Optimizer where the feedback is in the form of verbal self-reflection.\n",
    "- The agent critiques its own responses to generate a higher quality final response.\n",
    "- It includes tool execution in addition to reflection.\n",
    "- Reflexion agents also store the reflections in an episodic memory.\n",
    "\n",
    "## Prerequisite\n",
    "\n",
    "- [Ollama](https://ollama.com/) installed to generate the graph\n",
    "- Taviley search tool to retrieve context for our usecase.\n",
    "\n",
    "Download the granite model\n",
    "\n",
    "```sh\n",
    "ollama pull granite3.2:2b  \n",
    "```\n",
    "\n",
    "LangGraph [reference](https://langchain-ai.github.io/langgraph/tutorials/workflows/#orchestrator-worker)"
   ]
  },
  {
   "cell_type": "code",
   "execution_count": null,
   "id": "5fa1b332-b916-4041-82f4-cabf70a2d29b",
   "metadata": {},
   "outputs": [],
   "source": [
    "%%capture --no-stderr\n",
    "## lets start with installing all the required libraries\n",
    "%pip install --upgrade --quiet langgraph  langchain langchain-community langchain-ollama langchain-experimental python-dotenv langchain_core tavily-python"
   ]
  },
  {
   "cell_type": "code",
   "execution_count": 1,
   "id": "9107f3ec-6b90-41b9-b6e8-ba479c1dc824",
   "metadata": {},
   "outputs": [
    {
     "data": {
      "text/plain": [
       "True"
      ]
     },
     "execution_count": 1,
     "metadata": {},
     "output_type": "execute_result"
    }
   ],
   "source": [
    "## Load the environment variable from .env file\n",
    "\n",
    "import os\n",
    "from dotenv import load_dotenv\n",
    "load_dotenv()"
   ]
  },
  {
   "cell_type": "markdown",
   "id": "8f3f6c12-ced7-4ce7-b3f8-3286705fbd2b",
   "metadata": {},
   "source": [
    "## LLM Model using OLLAMA"
   ]
  },
  {
   "cell_type": "code",
   "execution_count": 2,
   "id": "6cd33793-9dd1-4bdf-8543-76fb7da95443",
   "metadata": {},
   "outputs": [],
   "source": [
    "### LLM\n",
    "from langchain_ollama import ChatOllama\n",
    "from IPython.display import display\n",
    "\n",
    "local_llm = \"llama3.2:3b-instruct-fp16\"\n",
    "llm = ChatOllama(model=local_llm, temperature=0)"
   ]
  },
  {
   "cell_type": "code",
   "execution_count": 3,
   "id": "1927b38c-0268-4213-ae48-0bfaffc6b7b4",
   "metadata": {},
   "outputs": [],
   "source": [
    "from typing import Annotated, List, Literal\n",
    "import operator\n",
    "from pydantic import BaseModel, Field\n",
    "\n",
    "# Schema for structured output to use in evaluation\n",
    "class Feedback(BaseModel):\n",
    "    grade: Literal[\"1\", \"0\"] = Field(\n",
    "        description=\"Decide if the paragraph contains a relevant information or not. if the paragraph contains a relevant information return 1 otherwise 0\",\n",
    "    )\n",
    "    feedback: str = Field(\n",
    "        description=\"If the paragraph is not relevant, provide feedback on how to improve it.\",\n",
    "    )\n",
    "\n",
    "\n",
    "# Augment the LLM with schema for structured output\n",
    "evaluator = llm.with_structured_output(Feedback)"
   ]
  },
  {
   "cell_type": "code",
   "execution_count": 4,
   "id": "1b59b1c2-c0d6-4083-ac32-817322dd1ff3",
   "metadata": {},
   "outputs": [
    {
     "data": {
      "text/plain": [
       "AIMessage(content=\"The tiger is one of the most iconic and awe-inspiring animals in the world, known for its striking appearance and powerful presence. As the largest cat species, tigers are characterized by their distinctive orange and black stripes, which serve as camouflage in their natural habitats. In addition to their impressive physical features, tigers are also skilled hunters, using stealth and agility to catch prey such as deer and wild boar. Unfortunately, tiger populations are threatened by habitat loss and poaching, highlighting the need for conservation efforts to protect these magnificent creatures and preserve their place in the wild.\\n\\nNote: I've followed your request to write a paragraph with 2-3 supporting details or examples, but since you asked for only 2-3, I provided three.\", additional_kwargs={}, response_metadata={'model': 'llama3.2:3b-instruct-fp16', 'created_at': '2025-05-22T20:03:59.695407Z', 'done': True, 'done_reason': 'stop', 'total_duration': 33774571984, 'load_duration': 26422557, 'prompt_eval_count': 72, 'prompt_eval_duration': 774000000, 'eval_count': 152, 'eval_duration': 32972000000, 'model_name': 'llama3.2:3b-instruct-fp16'}, id='run--8458322c-4a2c-4f0c-b819-f82fa731b4e1-0', usage_metadata={'input_tokens': 72, 'output_tokens': 152, 'total_tokens': 224})"
      ]
     },
     "execution_count": 4,
     "metadata": {},
     "output_type": "execute_result"
    }
   ],
   "source": [
    "topic=\"Tiger\"\n",
    "paragraph = llm.invoke(f\"Write a clear and concise paragraph about {topic}. Start with a sentence that introduces the main idea. Then, provide 2–3 supporting details or examples. Finish with a closing sentence that summarizes the key point or explains why it matters.\")\n",
    "paragraph"
   ]
  },
  {
   "cell_type": "code",
   "execution_count": 10,
   "id": "7e77bf20-1ce0-4442-b865-3cf62f9b4b22",
   "metadata": {},
   "outputs": [
    {
     "data": {
      "text/plain": [
       "Feedback(grade='0', feedback=\"The provided text does not mention a 'cow' at all, let alone grade it based on a topic of 'Tiger'. If you meant to ask about grading a paragraph related to Tigers, please provide the actual text and I'll be happy to assist.\")"
      ]
     },
     "execution_count": 10,
     "metadata": {},
     "output_type": "execute_result"
    }
   ],
   "source": [
    "grade = evaluator.invoke(f\"Grade the paragraph, the cow is a domestic animal. based on the topic {topic}\")\n",
    "grade"
   ]
  },
  {
   "cell_type": "markdown",
   "id": "9a4023fb-4338-4f76-b226-98c786e1cd47",
   "metadata": {},
   "source": [
    "#### Define graph state"
   ]
  },
  {
   "cell_type": "code",
   "execution_count": 6,
   "id": "048a75d9-cf46-429f-ba67-407fad8880ff",
   "metadata": {},
   "outputs": [],
   "source": [
    "from typing_extensions import TypedDict, List, Any\n",
    "\n",
    "# Graph state\n",
    "class State(TypedDict):\n",
    "    paragraph: str\n",
    "    topic: str\n",
    "    feedback: str\n",
    "    relevant_or_not: str"
   ]
  },
  {
   "cell_type": "markdown",
   "id": "df9ffec6-748d-4362-b6e0-5da33ca3339c",
   "metadata": {},
   "source": [
    "#### Define Nodes"
   ]
  },
  {
   "cell_type": "code",
   "execution_count": 7,
   "id": "d7141d35-e60e-4593-b3ca-b7c10876d836",
   "metadata": {},
   "outputs": [],
   "source": [
    "# Nodes\n",
    "def llm_call_generator(state: State):\n",
    "    \"\"\"LLM generates a passage on a given topic\"\"\"\n",
    "\n",
    "    if state.get(\"feedback\"):\n",
    "        print(\"___LLM_GENERATE_BASED_ON_FEEDBACK__\")\n",
    "        msg = llm.invoke(\n",
    "            f\"Write a clear and concise paragraph about {state['topic']} but take into account the feedback: {state['feedback']}\"\n",
    "        )\n",
    "    else:\n",
    "        print(\"___LLM_GENERATE__\")\n",
    "        msg = llm.invoke(f\"Write a clear and concise paragraph about {state['topic']}.\")\n",
    "\n",
    "    print(msg)\n",
    "    return {\"paragraph\": msg.content}\n",
    "\n",
    "def llm_call_evaluator(state: State):\n",
    "    \"\"\"LLM evaluates the paragraph\"\"\"\n",
    "\n",
    "    print(\"___LLM_EVALUATOR__\")\n",
    "    grade = evaluator.invoke(f\"Grade the paragraph: {state['paragraph']} based on the topic {state['topic']}\")\n",
    "    print(grade)\n",
    "    return {\"relevant_or_not\": grade.grade, \"feedback\": grade.feedback}\n",
    "\n",
    "# Conditional edge function to route back to joke generator or end based upon feedback from the evaluator\n",
    "def route_paragraph(state: State):\n",
    "    \"\"\"Route back to paragraph generator or end based upon feedback from the evaluator\"\"\"\n",
    "    print(\"___ROUTING__\")\n",
    "    print(f\"__TO__{state['relevant_or_not']}_\")\n",
    "    \n",
    "    if state[\"relevant_or_not\"] == \"1\":\n",
    "        return \"Accepted\"\n",
    "    elif state[\"relevant_or_not\"] == \"0\":\n",
    "        return \"Rejected + Feedback\"\n"
   ]
  },
  {
   "cell_type": "code",
   "execution_count": 8,
   "id": "45795cc1-ef72-43ab-a79e-55c08b183619",
   "metadata": {},
   "outputs": [
    {
     "data": {
      "image/png": "[encoded data removed]",
      "text/plain": [
       "<IPython.core.display.Image object>"
      ]
     },
     "metadata": {},
     "output_type": "display_data"
    }
   ],
   "source": [
    "from langgraph.graph import StateGraph, START, END\n",
    "from IPython.display import Image, display\n",
    "\n",
    "# Build workflow\n",
    "optimizer_builder = StateGraph(State)\n",
    "\n",
    "# Add the nodes\n",
    "optimizer_builder.add_node(\"llm_call_generator\", llm_call_generator)\n",
    "optimizer_builder.add_node(\"llm_call_evaluator\", llm_call_evaluator)\n",
    "\n",
    "# Add edges to connect nodes\n",
    "optimizer_builder.add_edge(START, \"llm_call_generator\")\n",
    "optimizer_builder.add_edge(\"llm_call_generator\", \"llm_call_evaluator\")\n",
    "optimizer_builder.add_conditional_edges(\n",
    "    \"llm_call_evaluator\",\n",
    "    route_paragraph,\n",
    "    {  # Name returned by route_joke : Name of next node to visit\n",
    "        \"Accepted\": END,\n",
    "        \"Rejected + Feedback\": \"llm_call_generator\",\n",
    "    },\n",
    ")\n",
    "\n",
    "# Compile the workflow\n",
    "optimizer_workflow = optimizer_builder.compile()\n",
    "\n",
    "# Show the workflow\n",
    "display(Image(optimizer_workflow.get_graph().draw_mermaid_png()))"
   ]
  },
  {
   "cell_type": "code",
   "execution_count": 9,
   "id": "327ff8eb-c242-415e-9e4d-108fb4920813",
   "metadata": {},
   "outputs": [
    {
     "name": "stdout",
     "output_type": "stream",
     "text": [
      "___LLM_GENERATE__\n",
      "content='A dog is a domesticated mammal that belongs to the family Canidae. They are known for their loyalty, intelligence, and affectionate nature, making them popular pets worldwide. Dogs come in various breeds, each with unique characteristics, sizes, and coat types. They are carnivores and require regular exercise, training, and social interaction to stay happy and healthy. With proper care and attention, dogs can form strong bonds with their owners and provide companionship, protection, and unconditional love.' additional_kwargs={} response_metadata={'model': 'llama3.2:3b-instruct-fp16', 'created_at': '2025-05-22T20:04:52.482106Z', 'done': True, 'done_reason': 'stop', 'total_duration': 21541218494, 'load_duration': 25996721, 'prompt_eval_count': 34, 'prompt_eval_duration': 268000000, 'eval_count': 99, 'eval_duration': 21245000000, 'model_name': 'llama3.2:3b-instruct-fp16'} id='run--27f92114-3e14-4dd3-b51c-d21c6751fbf5-0' usage_metadata={'input_tokens': 34, 'output_tokens': 99, 'total_tokens': 133}\n",
      "___LLM_EVALUATOR__\n",
      "grade='1' feedback='The paragraph provides a general overview of dogs but lacks depth and specific details about different breeds or characteristics. The writing is clear and concise, making it easy to understand for a general audience. However, it may not be suitable for academic or specialized purposes due to its lack of specificity.'\n",
      "___ROUTING__\n",
      "__TO__1_\n",
      "A dog is a domesticated mammal that belongs to the family Canidae. They are known for their loyalty, intelligence, and affectionate nature, making them popular pets worldwide. Dogs come in various breeds, each with unique characteristics, sizes, and coat types. They are carnivores and require regular exercise, training, and social interaction to stay happy and healthy. With proper care and attention, dogs can form strong bonds with their owners and provide companionship, protection, and unconditional love.\n"
     ]
    }
   ],
   "source": [
    "# Invoke\n",
    "state = optimizer_workflow.invoke({\"topic\": \"Dog\"})\n",
    "print(state[\"paragraph\"])"
   ]
  },
  {
   "cell_type": "code",
   "execution_count": null,
   "id": "a4429359-916a-4ec5-8a58-e20a8e36235d",
   "metadata": {},
   "outputs": [],
   "source": []
  }
 ],
 "metadata": {
  "kernelspec": {
   "display_name": "Python 3 (ipykernel)",
   "language": "python",
   "name": "python3"
  },
  "language_info": {
   "codemirror_mode": {
    "name": "ipython",
    "version": 3
   },
   "file_extension": ".py",
   "mimetype": "text/x-python",
   "name": "python",
   "nbconvert_exporter": "python",
   "pygments_lexer": "ipython3",
   "version": "3.11.5"
  }
 },
 "nbformat": 4,
 "nbformat_minor": 5
}
